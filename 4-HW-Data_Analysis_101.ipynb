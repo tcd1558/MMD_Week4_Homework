{
 "cells": [
  {
   "cell_type": "markdown",
   "metadata": {},
   "source": [
    "# Pandas Series"
   ]
  },
  {
   "cell_type": "code",
   "execution_count": 3,
   "metadata": {},
   "outputs": [],
   "source": [
    "import pandas as pd"
   ]
  },
  {
   "cell_type": "markdown",
   "metadata": {},
   "source": [
    "A dictionary of time series data on the price of S&P 500 index going back to 1970. "
   ]
  },
  {
   "cell_type": "code",
   "execution_count": 4,
   "metadata": {},
   "outputs": [],
   "source": [
    "sp500 = {1970: 90.31, 1971: 93.49, 1972: 103.30, 1973: 118.40, 1974: 96.11, 1975: 72.56, 1976: 96.86, 1977: 103.80, 1978: 90.25, \n",
    "         1979: 99.71, 1980: 110.90, 1981: 133.00, 1982: 117.30, 1983: 144.30, 1984: 166.40, 1985: 171.60, 1986: 208.20, 1987: 264.50,\n",
    "        1988: 250.50, 1989: 285.40, 1990: 339.97, 1991: 325.49, 1992: 416.08, 1993: 435.23, 1994: 472.99, 1995: 465.25, 1996: 614.42,\n",
    "        1997: 766.22, 1998: 963.36, 1999: 1248.77, 2000: 1425.59, 2001: 1335.63, 2002: 1140.21, 2003: 895.84, 2004: 1132.52, 2005: 1181.41,\n",
    "        2006: 1278.73, 2007: 1424.16, 2008: 1378.76, 2009: 865.58, 2010: 1123.58, 2011: 1282.62, 2012: 1300.58, 2013: 1480.40, 2014: 1822.36,\n",
    "        2015: 2028.18, 2016: 1918.60, 2017: 2275.12, 2018: 2789.80}"
   ]
  },
  {
   "cell_type": "markdown",
   "metadata": {},
   "source": [
    "### Question 1"
   ]
  },
  {
   "cell_type": "markdown",
   "metadata": {},
   "source": [
    "Create a pandas series called <b>price</b> with years as index and prices as values. Give that series a name, <b>sp500</b>."
   ]
  },
  {
   "cell_type": "code",
   "execution_count": 10,
   "metadata": {},
   "outputs": [
    {
     "data": {
      "text/plain": [
       "Year\n",
       "1970      90.31\n",
       "1971      93.49\n",
       "1972     103.30\n",
       "1973     118.40\n",
       "1974      96.11\n",
       "1975      72.56\n",
       "1976      96.86\n",
       "1977     103.80\n",
       "1978      90.25\n",
       "1979      99.71\n",
       "1980     110.90\n",
       "1981     133.00\n",
       "1982     117.30\n",
       "1983     144.30\n",
       "1984     166.40\n",
       "1985     171.60\n",
       "1986     208.20\n",
       "1987     264.50\n",
       "1988     250.50\n",
       "1989     285.40\n",
       "1990     339.97\n",
       "1991     325.49\n",
       "1992     416.08\n",
       "1993     435.23\n",
       "1994     472.99\n",
       "1995     465.25\n",
       "1996     614.42\n",
       "1997     766.22\n",
       "1998     963.36\n",
       "1999    1248.77\n",
       "2000    1425.59\n",
       "2001    1335.63\n",
       "2002    1140.21\n",
       "2003     895.84\n",
       "2004    1132.52\n",
       "2005    1181.41\n",
       "2006    1278.73\n",
       "2007    1424.16\n",
       "2008    1378.76\n",
       "2009     865.58\n",
       "2010    1123.58\n",
       "2011    1282.62\n",
       "2012    1300.58\n",
       "2013    1480.40\n",
       "2014    1822.36\n",
       "2015    2028.18\n",
       "2016    1918.60\n",
       "2017    2275.12\n",
       "2018    2789.80\n",
       "Name: sp500, dtype: float64"
      ]
     },
     "execution_count": 10,
     "metadata": {},
     "output_type": "execute_result"
    }
   ],
   "source": [
    "price = pd.Series(sp500)\n",
    "price.name = 'sp500'\n",
    "price.index.name='Year'\n",
    "price"
   ]
  },
  {
   "cell_type": "markdown",
   "metadata": {},
   "source": [
    "### Question 2"
   ]
  },
  {
   "cell_type": "markdown",
   "metadata": {},
   "source": [
    "Return the index as an Index object and the values as ndarray."
   ]
  },
  {
   "cell_type": "code",
   "execution_count": 9,
   "metadata": {},
   "outputs": [
    {
     "data": {
      "text/plain": [
       "Int64Index([1970, 1971, 1972, 1973, 1974, 1975, 1976, 1977, 1978, 1979, 1980,\n",
       "            1981, 1982, 1983, 1984, 1985, 1986, 1987, 1988, 1989, 1990, 1991,\n",
       "            1992, 1993, 1994, 1995, 1996, 1997, 1998, 1999, 2000, 2001, 2002,\n",
       "            2003, 2004, 2005, 2006, 2007, 2008, 2009, 2010, 2011, 2012, 2013,\n",
       "            2014, 2015, 2016, 2017, 2018],\n",
       "           dtype='int64', name='Year')"
      ]
     },
     "execution_count": 9,
     "metadata": {},
     "output_type": "execute_result"
    }
   ],
   "source": [
    "price.index"
   ]
  },
  {
   "cell_type": "code",
   "execution_count": 12,
   "metadata": {},
   "outputs": [
    {
     "data": {
      "text/plain": [
       "array([  90.31,   93.49,  103.3 ,  118.4 ,   96.11,   72.56,   96.86,\n",
       "        103.8 ,   90.25,   99.71,  110.9 ,  133.  ,  117.3 ,  144.3 ,\n",
       "        166.4 ,  171.6 ,  208.2 ,  264.5 ,  250.5 ,  285.4 ,  339.97,\n",
       "        325.49,  416.08,  435.23,  472.99,  465.25,  614.42,  766.22,\n",
       "        963.36, 1248.77, 1425.59, 1335.63, 1140.21,  895.84, 1132.52,\n",
       "       1181.41, 1278.73, 1424.16, 1378.76,  865.58, 1123.58, 1282.62,\n",
       "       1300.58, 1480.4 , 1822.36, 2028.18, 1918.6 , 2275.12, 2789.8 ])"
      ]
     },
     "execution_count": 12,
     "metadata": {},
     "output_type": "execute_result"
    }
   ],
   "source": [
    "price.values"
   ]
  },
  {
   "cell_type": "markdown",
   "metadata": {},
   "source": [
    "### Question 3"
   ]
  },
  {
   "cell_type": "markdown",
   "metadata": {},
   "source": [
    "Select the first 10 rows of the series <b>price</b> using the visualization index (hint: iloc)."
   ]
  },
  {
   "cell_type": "code",
   "execution_count": 13,
   "metadata": {},
   "outputs": [
    {
     "data": {
      "text/plain": [
       "Year\n",
       "1970     90.31\n",
       "1971     93.49\n",
       "1972    103.30\n",
       "1973    118.40\n",
       "1974     96.11\n",
       "1975     72.56\n",
       "1976     96.86\n",
       "1977    103.80\n",
       "1978     90.25\n",
       "1979     99.71\n",
       "Name: sp500, dtype: float64"
      ]
     },
     "execution_count": 13,
     "metadata": {},
     "output_type": "execute_result"
    }
   ],
   "source": [
    "price.iloc[:10]"
   ]
  },
  {
   "cell_type": "markdown",
   "metadata": {},
   "source": [
    "Select the first 10 rows of the series <b>price</b> using the method <b>head</b>."
   ]
  },
  {
   "cell_type": "code",
   "execution_count": 14,
   "metadata": {},
   "outputs": [
    {
     "data": {
      "text/plain": [
       "Year\n",
       "1970     90.31\n",
       "1971     93.49\n",
       "1972    103.30\n",
       "1973    118.40\n",
       "1974     96.11\n",
       "1975     72.56\n",
       "1976     96.86\n",
       "1977    103.80\n",
       "1978     90.25\n",
       "1979     99.71\n",
       "Name: sp500, dtype: float64"
      ]
     },
     "execution_count": 14,
     "metadata": {},
     "output_type": "execute_result"
    }
   ],
   "source": [
    "price.head(10)"
   ]
  },
  {
   "cell_type": "markdown",
   "metadata": {},
   "source": [
    "Select the last 5 rows of the series <b>price</b> using the method <b>tail</b>."
   ]
  },
  {
   "cell_type": "code",
   "execution_count": 16,
   "metadata": {},
   "outputs": [
    {
     "data": {
      "text/plain": [
       "Year\n",
       "2014    1822.36\n",
       "2015    2028.18\n",
       "2016    1918.60\n",
       "2017    2275.12\n",
       "2018    2789.80\n",
       "Name: sp500, dtype: float64"
      ]
     },
     "execution_count": 16,
     "metadata": {},
     "output_type": "execute_result"
    }
   ],
   "source": [
    "price.tail(5)"
   ]
  },
  {
   "cell_type": "markdown",
   "metadata": {},
   "source": [
    "### Question 4"
   ]
  },
  {
   "cell_type": "markdown",
   "metadata": {},
   "source": [
    "When would you use <b>iloc</b> vs. <b>loc</b> to slice a series? Use both to extract a new series from the original series for rows starting in the year 1980 and beyond."
   ]
  },
  {
   "cell_type": "markdown",
   "metadata": {},
   "source": [
    "Answer:\n",
    "The i in loc stands for index. Meaning when you want to retreive some data with their indices, you use iloc. \n",
    "When you want to retrieve data with the values of their indices, you use loc. "
   ]
  },
  {
   "cell_type": "code",
   "execution_count": 22,
   "metadata": {},
   "outputs": [
    {
     "data": {
      "text/plain": [
       "Year\n",
       "1980     110.90\n",
       "1981     133.00\n",
       "1982     117.30\n",
       "1983     144.30\n",
       "1984     166.40\n",
       "1985     171.60\n",
       "1986     208.20\n",
       "1987     264.50\n",
       "1988     250.50\n",
       "1989     285.40\n",
       "1990     339.97\n",
       "1991     325.49\n",
       "1992     416.08\n",
       "1993     435.23\n",
       "1994     472.99\n",
       "1995     465.25\n",
       "1996     614.42\n",
       "1997     766.22\n",
       "1998     963.36\n",
       "1999    1248.77\n",
       "2000    1425.59\n",
       "2001    1335.63\n",
       "2002    1140.21\n",
       "2003     895.84\n",
       "2004    1132.52\n",
       "2005    1181.41\n",
       "2006    1278.73\n",
       "2007    1424.16\n",
       "2008    1378.76\n",
       "2009     865.58\n",
       "2010    1123.58\n",
       "2011    1282.62\n",
       "2012    1300.58\n",
       "2013    1480.40\n",
       "2014    1822.36\n",
       "2015    2028.18\n",
       "2016    1918.60\n",
       "2017    2275.12\n",
       "2018    2789.80\n",
       "Name: sp500, dtype: float64"
      ]
     },
     "execution_count": 22,
     "metadata": {},
     "output_type": "execute_result"
    }
   ],
   "source": [
    "price.loc[1980:]"
   ]
  },
  {
   "cell_type": "code",
   "execution_count": 30,
   "metadata": {},
   "outputs": [
    {
     "data": {
      "text/plain": [
       "10"
      ]
     },
     "execution_count": 30,
     "metadata": {},
     "output_type": "execute_result"
    }
   ],
   "source": [
    "price.index.get_loc(1980)"
   ]
  },
  {
   "cell_type": "code",
   "execution_count": 36,
   "metadata": {},
   "outputs": [
    {
     "data": {
      "text/plain": [
       "Year\n",
       "1980     110.90\n",
       "1981     133.00\n",
       "1982     117.30\n",
       "1983     144.30\n",
       "1984     166.40\n",
       "1985     171.60\n",
       "1986     208.20\n",
       "1987     264.50\n",
       "1988     250.50\n",
       "1989     285.40\n",
       "1990     339.97\n",
       "1991     325.49\n",
       "1992     416.08\n",
       "1993     435.23\n",
       "1994     472.99\n",
       "1995     465.25\n",
       "1996     614.42\n",
       "1997     766.22\n",
       "1998     963.36\n",
       "1999    1248.77\n",
       "2000    1425.59\n",
       "2001    1335.63\n",
       "2002    1140.21\n",
       "2003     895.84\n",
       "2004    1132.52\n",
       "2005    1181.41\n",
       "2006    1278.73\n",
       "2007    1424.16\n",
       "2008    1378.76\n",
       "2009     865.58\n",
       "2010    1123.58\n",
       "2011    1282.62\n",
       "2012    1300.58\n",
       "2013    1480.40\n",
       "2014    1822.36\n",
       "2015    2028.18\n",
       "2016    1918.60\n",
       "2017    2275.12\n",
       "2018    2789.80\n",
       "Name: sp500, dtype: float64"
      ]
     },
     "execution_count": 36,
     "metadata": {},
     "output_type": "execute_result"
    }
   ],
   "source": [
    "price.iloc[price.index.get_loc(1980):]"
   ]
  },
  {
   "cell_type": "markdown",
   "metadata": {},
   "source": [
    "<i>Dividends are a piece of the profits businesses that are a part of the S&P 500 index return to their shareholders. The dictionary data below is dividend yield by year for the S&P 500 index. This is percent data so ideally should be converted to the proportion form by dividing the series by 100. For example, the first entry is 3.49%. Convert that to 0.0349. So create a new series called <b>yld</b>, name it <b>sp500yield</b>, divide it by 100 and answer the questions below.</i>"
   ]
  },
  {
   "cell_type": "code",
   "execution_count": 42,
   "metadata": {},
   "outputs": [],
   "source": [
    "sp500div = {1970: 3.49, 1971: 3.1, 1972: 2.68, 1973: 3.57, 1974: 5.37, 1975: 4.15, 1976: 3.87, 1977: 4.98, 1978: 5.28, \n",
    "         1979: 5.24, 1980: 4.61, 1981: 5.36, 1982: 4.93, 1983: 4.31, 1984: 4.58, 1985: 3.81, 1986: 3.33, 1987: 3.66,\n",
    "        1988: 3.53, 1989: 3.17, 1990: 3.68, 1991: 3.14, 1992: 2.84, 1993: 2.7, 1994: 2.89, 1995: 2.24, 1996: 2,\n",
    "        1997: 1.61, 1998: 1.36, 1999: 1.17, 2000: 1.22, 2001: 1.37, 2002: 1.79, 2003: 1.61, 2004: 1.62, 2005: 1.76,\n",
    "        2006: 1.76, 2007: 1.87, 2008: 3.23, 2009: 2.02, 2010: 1.83, 2011: 2.13, 2012: 2.2, 2013: 1.94, 2014: 1.92,\n",
    "        2015: 2.11, 2016: 2.03, 2017: 1.84, 2018: 2.09}"
   ]
  },
  {
   "cell_type": "code",
   "execution_count": 54,
   "metadata": {},
   "outputs": [
    {
     "data": {
      "text/plain": [
       "Year\n",
       "1970    0.0349\n",
       "1971    0.0310\n",
       "1972    0.0268\n",
       "1973    0.0357\n",
       "1974    0.0537\n",
       "1975    0.0415\n",
       "1976    0.0387\n",
       "1977    0.0498\n",
       "1978    0.0528\n",
       "1979    0.0524\n",
       "1980    0.0461\n",
       "1981    0.0536\n",
       "1982    0.0493\n",
       "1983    0.0431\n",
       "1984    0.0458\n",
       "1985    0.0381\n",
       "1986    0.0333\n",
       "1987    0.0366\n",
       "1988    0.0353\n",
       "1989    0.0317\n",
       "1990    0.0368\n",
       "1991    0.0314\n",
       "1992    0.0284\n",
       "1993    0.0270\n",
       "1994    0.0289\n",
       "1995    0.0224\n",
       "1996    0.0200\n",
       "1997    0.0161\n",
       "1998    0.0136\n",
       "1999    0.0117\n",
       "2000    0.0122\n",
       "2001    0.0137\n",
       "2002    0.0179\n",
       "2003    0.0161\n",
       "2004    0.0162\n",
       "2005    0.0176\n",
       "2006    0.0176\n",
       "2007    0.0187\n",
       "2008    0.0323\n",
       "2009    0.0202\n",
       "2010    0.0183\n",
       "2011    0.0213\n",
       "2012    0.0220\n",
       "2013    0.0194\n",
       "2014    0.0192\n",
       "2015    0.0211\n",
       "2016    0.0203\n",
       "2017    0.0184\n",
       "2018    0.0209\n",
       "Name: sp500yield, dtype: float64"
      ]
     },
     "execution_count": 54,
     "metadata": {},
     "output_type": "execute_result"
    }
   ],
   "source": [
    "yld = pd.Series(sp500div)\n",
    "yld.name = 'sp500yield'\n",
    "yld.index.name='Year'\n",
    "yld = yld / 100 \n",
    "yld"
   ]
  },
  {
   "cell_type": "markdown",
   "metadata": {},
   "source": [
    "### Question 5"
   ]
  },
  {
   "cell_type": "markdown",
   "metadata": {},
   "source": [
    "In one line of code, extract the five highest dividend yielding years from the <b>yld</b> series sorted by index. Extract both years and values."
   ]
  },
  {
   "cell_type": "code",
   "execution_count": 58,
   "metadata": {},
   "outputs": [
    {
     "data": {
      "text/plain": [
       "Year\n",
       "1974    0.0537\n",
       "1977    0.0498\n",
       "1978    0.0528\n",
       "1979    0.0524\n",
       "1981    0.0536\n",
       "Name: sp500yield, dtype: float64"
      ]
     },
     "execution_count": 58,
     "metadata": {},
     "output_type": "execute_result"
    }
   ],
   "source": [
    "yld.nlargest(5).sort_index()"
   ]
  },
  {
   "cell_type": "markdown",
   "metadata": {},
   "source": [
    "Extract the five lowest price years from the <b>price</b> series. Extract both years and values."
   ]
  },
  {
   "cell_type": "code",
   "execution_count": 61,
   "metadata": {},
   "outputs": [
    {
     "data": {
      "text/plain": [
       "Year\n",
       "1975    72.56\n",
       "1978    90.25\n",
       "1970    90.31\n",
       "1971    93.49\n",
       "1974    96.11\n",
       "Name: sp500, dtype: float64"
      ]
     },
     "execution_count": 61,
     "metadata": {},
     "output_type": "execute_result"
    }
   ],
   "source": [
    "price.nsmallest(5)"
   ]
  },
  {
   "cell_type": "markdown",
   "metadata": {},
   "source": [
    "Find the index of the row with maximum and minimum values in <b>yld</b> series."
   ]
  },
  {
   "cell_type": "code",
   "execution_count": 62,
   "metadata": {},
   "outputs": [
    {
     "data": {
      "text/plain": [
       "1974"
      ]
     },
     "execution_count": 62,
     "metadata": {},
     "output_type": "execute_result"
    }
   ],
   "source": [
    "yld.idxmax()"
   ]
  },
  {
   "cell_type": "code",
   "execution_count": 63,
   "metadata": {},
   "outputs": [
    {
     "data": {
      "text/plain": [
       "1999"
      ]
     },
     "execution_count": 63,
     "metadata": {},
     "output_type": "execute_result"
    }
   ],
   "source": [
    "yld.idxmin()"
   ]
  },
  {
   "cell_type": "markdown",
   "metadata": {},
   "source": [
    "In one line of code, use the index values from the two queries above, extract the respective values from the <b>price</b> series. Use <b>loc</b> to do that."
   ]
  },
  {
   "cell_type": "code",
   "execution_count": 64,
   "metadata": {},
   "outputs": [
    {
     "data": {
      "text/plain": [
       "96.11"
      ]
     },
     "execution_count": 64,
     "metadata": {},
     "output_type": "execute_result"
    }
   ],
   "source": [
    "price[yld.idxmax()]"
   ]
  },
  {
   "cell_type": "code",
   "execution_count": 69,
   "metadata": {},
   "outputs": [
    {
     "data": {
      "text/plain": [
       "96.11"
      ]
     },
     "execution_count": 69,
     "metadata": {},
     "output_type": "execute_result"
    }
   ],
   "source": [
    "price.loc[1974]"
   ]
  },
  {
   "cell_type": "code",
   "execution_count": 73,
   "metadata": {},
   "outputs": [
    {
     "data": {
      "text/plain": [
       "96.11"
      ]
     },
     "execution_count": 73,
     "metadata": {},
     "output_type": "execute_result"
    }
   ],
   "source": [
    "price.loc[yld.idxmax()]"
   ]
  },
  {
   "cell_type": "code",
   "execution_count": 65,
   "metadata": {},
   "outputs": [
    {
     "data": {
      "text/plain": [
       "1248.77"
      ]
     },
     "execution_count": 65,
     "metadata": {},
     "output_type": "execute_result"
    }
   ],
   "source": [
    "price[yld.idxmin()]"
   ]
  },
  {
   "cell_type": "code",
   "execution_count": 74,
   "metadata": {},
   "outputs": [
    {
     "data": {
      "text/plain": [
       "1248.77"
      ]
     },
     "execution_count": 74,
     "metadata": {},
     "output_type": "execute_result"
    }
   ],
   "source": [
    "price.loc[1999]"
   ]
  },
  {
   "cell_type": "code",
   "execution_count": 75,
   "metadata": {},
   "outputs": [
    {
     "data": {
      "text/plain": [
       "1248.77"
      ]
     },
     "execution_count": 75,
     "metadata": {},
     "output_type": "execute_result"
    }
   ],
   "source": [
    "price.loc[yld.idxmin()]"
   ]
  },
  {
   "cell_type": "markdown",
   "metadata": {},
   "source": [
    "### Question 6"
   ]
  },
  {
   "cell_type": "markdown",
   "metadata": {},
   "source": [
    "Extract a new series from the original <b>yld</b> series where dividend yield is more than 4%."
   ]
  },
  {
   "cell_type": "code",
   "execution_count": 76,
   "metadata": {},
   "outputs": [
    {
     "data": {
      "text/plain": [
       "Year\n",
       "1974    0.0537\n",
       "1975    0.0415\n",
       "1977    0.0498\n",
       "1978    0.0528\n",
       "1979    0.0524\n",
       "1980    0.0461\n",
       "1981    0.0536\n",
       "1982    0.0493\n",
       "1983    0.0431\n",
       "1984    0.0458\n",
       "Name: sp500yield, dtype: float64"
      ]
     },
     "execution_count": 76,
     "metadata": {},
     "output_type": "execute_result"
    }
   ],
   "source": [
    "yld[yld>0.04]"
   ]
  },
  {
   "cell_type": "markdown",
   "metadata": {},
   "source": [
    "Extract a new series from the original <b>yld</b> series where dividend yield is between 4% and 5%."
   ]
  },
  {
   "cell_type": "code",
   "execution_count": 84,
   "metadata": {},
   "outputs": [
    {
     "data": {
      "text/plain": [
       "Year\n",
       "1975    0.0415\n",
       "1977    0.0498\n",
       "1980    0.0461\n",
       "1982    0.0493\n",
       "1983    0.0431\n",
       "1984    0.0458\n",
       "Name: sp500yield, dtype: float64"
      ]
     },
     "execution_count": 84,
     "metadata": {},
     "output_type": "execute_result"
    }
   ],
   "source": [
    "yld[(yld>0.04) & (yld<0.05)]"
   ]
  },
  {
   "cell_type": "markdown",
   "metadata": {},
   "source": [
    "In one line of code, create a new series that ranks <b>yld</b> from the highest to the lowest dividend yield rows, showing only the top five records. Show both index and values of the new series. Hint: methods such as rank() and sort_values() can help. You might also have to play around with the parameters of the rank() method like ascending etc."
   ]
  },
  {
   "cell_type": "code",
   "execution_count": 92,
   "metadata": {},
   "outputs": [
    {
     "data": {
      "text/plain": [
       "Year\n",
       "1974    0.0537\n",
       "1981    0.0536\n",
       "1978    0.0528\n",
       "1979    0.0524\n",
       "1977    0.0498\n",
       "Name: sp500yield, dtype: float64"
      ]
     },
     "execution_count": 92,
     "metadata": {},
     "output_type": "execute_result"
    }
   ],
   "source": [
    "yld.sort_values(ascending = False).head(5)"
   ]
  },
  {
   "cell_type": "code",
   "execution_count": 104,
   "metadata": {},
   "outputs": [
    {
     "data": {
      "text/plain": [
       "Year\n",
       "1974    0.0537\n",
       "1977    0.0498\n",
       "1978    0.0528\n",
       "1979    0.0524\n",
       "1981    0.0536\n",
       "Name: sp500yield, dtype: float64"
      ]
     },
     "execution_count": 104,
     "metadata": {},
     "output_type": "execute_result"
    }
   ],
   "source": [
    "yld[yld.rank().sort_values() > len(yld)-5]"
   ]
  },
  {
   "cell_type": "markdown",
   "metadata": {},
   "source": [
    "In one line of code, create a new series that ranks <b>yld</b> from the highest to the lowest dividend yield rows, showing only the bottom five records. Is this series the same as the one that you just extracted? "
   ]
  },
  {
   "cell_type": "code",
   "execution_count": 106,
   "metadata": {},
   "outputs": [
    {
     "data": {
      "text/plain": [
       "Year\n",
       "2003    0.0161\n",
       "2001    0.0137\n",
       "1998    0.0136\n",
       "2000    0.0122\n",
       "1999    0.0117\n",
       "Name: sp500yield, dtype: float64"
      ]
     },
     "execution_count": 106,
     "metadata": {},
     "output_type": "execute_result"
    }
   ],
   "source": [
    "yld.sort_values(ascending = False).tail(5)"
   ]
  },
  {
   "cell_type": "code",
   "execution_count": null,
   "metadata": {},
   "outputs": [],
   "source": [
    "Answer: The answer is not the same, because the last 5 rows show the lowest yeild, not the highest. "
   ]
  },
  {
   "cell_type": "markdown",
   "metadata": {},
   "source": [
    "<i>Price/earnings ratio is one of the fundamental valuation metric we can use to determine whether what we are buying is a good investment or not. It signifies the price per share the market is quoting for each dollar of earnings of a business or a collection of businesses (like what we have in the S&P 500 index). The dictionary data below is price to earnings data by year for the S&P 500 index. Use that to create a new series called <b>pe</b>, name it <b>sp500pe</b> and answer the questions below.</i>"
   ]
  },
  {
   "cell_type": "code",
   "execution_count": 107,
   "metadata": {},
   "outputs": [],
   "source": [
    "sp500pe = {1970: 15.76, 1971: 18.12, 1972: 18.01, 1973: 18.09, 1974: 11.68, 1975: 8.3, 1976: 11.82, 1977: 10.41, 1978: 8.28, \n",
    "         1979: 7.88, 1980: 7.39, 1981: 9.02, 1982: 7.73, 1983: 11.48, 1984: 11.52, 1985: 10.36, 1986: 14.28, 1987: 18.01,\n",
    "        1988: 14.02, 1989: 11.82, 1990: 15.13, 1991: 15.35, 1992: 25.93, 1993: 22.50, 1994: 21.34, 1995: 14.89, 1996: 18.08,\n",
    "        1997: 19.53, 1998: 24.29, 1999: 32.92, 2000: 29.04, 2001: 27.55, 2002: 46.17, 2003: 31.43, 2004: 22.73, 2005: 19.99,\n",
    "        2006: 18.07, 2007: 17.36, 2008: 21.46, 2009: 70.91, 2010: 20.7, 2011: 16.3, 2012: 14.87, 2013: 17.03, 2014: 18.15,\n",
    "        2015: 20.02, 2016: 22.18, 2017: 23.59, 2018: 24.97}"
   ]
  },
  {
   "cell_type": "code",
   "execution_count": 113,
   "metadata": {},
   "outputs": [
    {
     "data": {
      "text/plain": [
       "Year\n",
       "1970    15.76\n",
       "1971    18.12\n",
       "1972    18.01\n",
       "1973    18.09\n",
       "1974    11.68\n",
       "1975     8.30\n",
       "1976    11.82\n",
       "1977    10.41\n",
       "1978     8.28\n",
       "1979     7.88\n",
       "1980     7.39\n",
       "1981     9.02\n",
       "1982     7.73\n",
       "1983    11.48\n",
       "1984    11.52\n",
       "1985    10.36\n",
       "1986    14.28\n",
       "1987    18.01\n",
       "1988    14.02\n",
       "1989    11.82\n",
       "1990    15.13\n",
       "1991    15.35\n",
       "1992    25.93\n",
       "1993    22.50\n",
       "1994    21.34\n",
       "1995    14.89\n",
       "1996    18.08\n",
       "1997    19.53\n",
       "1998    24.29\n",
       "1999    32.92\n",
       "2000    29.04\n",
       "2001    27.55\n",
       "2002    46.17\n",
       "2003    31.43\n",
       "2004    22.73\n",
       "2005    19.99\n",
       "2006    18.07\n",
       "2007    17.36\n",
       "2008    21.46\n",
       "2009    70.91\n",
       "2010    20.70\n",
       "2011    16.30\n",
       "2012    14.87\n",
       "2013    17.03\n",
       "2014    18.15\n",
       "2015    20.02\n",
       "2016    22.18\n",
       "2017    23.59\n",
       "2018    24.97\n",
       "Name: sp500pe, dtype: float64"
      ]
     },
     "execution_count": 113,
     "metadata": {},
     "output_type": "execute_result"
    }
   ],
   "source": [
    "pe=pd.Series(sp500pe)\n",
    "pe.name = 'sp500pe'\n",
    "pe.index.name='Year'\n",
    "pe"
   ]
  },
  {
   "cell_type": "markdown",
   "metadata": {},
   "source": [
    "### Question 7"
   ]
  },
  {
   "cell_type": "markdown",
   "metadata": {},
   "source": [
    "In one line of code, extract the <b>five highest pe years</b> with the index sorted in ascending order. "
   ]
  },
  {
   "cell_type": "code",
   "execution_count": 126,
   "metadata": {},
   "outputs": [
    {
     "data": {
      "text/plain": [
       "Year\n",
       "1999    32.92\n",
       "2000    29.04\n",
       "2002    46.17\n",
       "2003    31.43\n",
       "2009    70.91\n",
       "Name: sp500pe, dtype: float64"
      ]
     },
     "execution_count": 126,
     "metadata": {},
     "output_type": "execute_result"
    }
   ],
   "source": [
    "pe.sort_values().tail(5).sort_index()"
   ]
  },
  {
   "cell_type": "markdown",
   "metadata": {},
   "source": [
    "In one line of code, find the dividend yields for the <b>five highest pe years</b>. Use the <b>yld</b> series from before along with the <b>pe</b> series above."
   ]
  },
  {
   "cell_type": "code",
   "execution_count": 129,
   "metadata": {},
   "outputs": [
    {
     "data": {
      "text/plain": [
       "Year\n",
       "1999    0.0117\n",
       "2000    0.0122\n",
       "2002    0.0179\n",
       "2003    0.0161\n",
       "2009    0.0202\n",
       "Name: sp500yield, dtype: float64"
      ]
     },
     "execution_count": 129,
     "metadata": {},
     "output_type": "execute_result"
    }
   ],
   "source": [
    "yld[pe.sort_values().tail(5).sort_index().index]"
   ]
  },
  {
   "cell_type": "markdown",
   "metadata": {},
   "source": [
    "<i>EPS/price is the earnings yield and is the inverse of price/earnings. Create a new series called <b>ep</b> by manipulating the <b>pe</b> series (divide by 1) and answer the following questions.</i> "
   ]
  },
  {
   "cell_type": "code",
   "execution_count": 143,
   "metadata": {},
   "outputs": [
    {
     "data": {
      "text/plain": [
       "Year\n",
       "1970    0.063452\n",
       "1971    0.055188\n",
       "1972    0.055525\n",
       "1973    0.055279\n",
       "1974    0.085616\n",
       "1975    0.120482\n",
       "1976    0.084602\n",
       "1977    0.096061\n",
       "1978    0.120773\n",
       "1979    0.126904\n",
       "1980    0.135318\n",
       "1981    0.110865\n",
       "1982    0.129366\n",
       "1983    0.087108\n",
       "1984    0.086806\n",
       "1985    0.096525\n",
       "1986    0.070028\n",
       "1987    0.055525\n",
       "1988    0.071327\n",
       "1989    0.084602\n",
       "1990    0.066094\n",
       "1991    0.065147\n",
       "1992    0.038565\n",
       "1993    0.044444\n",
       "1994    0.046860\n",
       "1995    0.067159\n",
       "1996    0.055310\n",
       "1997    0.051203\n",
       "1998    0.041169\n",
       "1999    0.030377\n",
       "2000    0.034435\n",
       "2001    0.036298\n",
       "2002    0.021659\n",
       "2003    0.031817\n",
       "2004    0.043995\n",
       "2005    0.050025\n",
       "2006    0.055340\n",
       "2007    0.057604\n",
       "2008    0.046598\n",
       "2009    0.014102\n",
       "2010    0.048309\n",
       "2011    0.061350\n",
       "2012    0.067249\n",
       "2013    0.058720\n",
       "2014    0.055096\n",
       "2015    0.049950\n",
       "2016    0.045086\n",
       "2017    0.042391\n",
       "2018    0.040048\n",
       "Name: sp500ep, dtype: float64"
      ]
     },
     "execution_count": 143,
     "metadata": {},
     "output_type": "execute_result"
    }
   ],
   "source": [
    "ep=1/pe\n",
    "ep.name = 'sp500ep'\n",
    "pe.index.name='Year'\n",
    "ep"
   ]
  },
  {
   "cell_type": "markdown",
   "metadata": {},
   "source": [
    "### Question 8"
   ]
  },
  {
   "cell_type": "markdown",
   "metadata": {},
   "source": [
    "What's the average earnings yield, the standard deviation of the yield and the highest and the lowest yield?"
   ]
  },
  {
   "cell_type": "code",
   "execution_count": 144,
   "metadata": {},
   "outputs": [
    {
     "data": {
      "text/plain": [
       "count    49.000000\n",
       "mean      0.064444\n",
       "std       0.028842\n",
       "min       0.014102\n",
       "25%       0.045086\n",
       "50%       0.055525\n",
       "75%       0.084602\n",
       "max       0.135318\n",
       "Name: sp500ep, dtype: float64"
      ]
     },
     "execution_count": 144,
     "metadata": {},
     "output_type": "execute_result"
    }
   ],
   "source": [
    "ep.describe()"
   ]
  },
  {
   "cell_type": "code",
   "execution_count": 137,
   "metadata": {},
   "outputs": [
    {
     "data": {
      "text/plain": [
       "0.06444392718932226"
      ]
     },
     "execution_count": 137,
     "metadata": {},
     "output_type": "execute_result"
    }
   ],
   "source": [
    "ep.mean()"
   ]
  },
  {
   "cell_type": "code",
   "execution_count": 139,
   "metadata": {},
   "outputs": [
    {
     "data": {
      "text/plain": [
       "0.02884232590882475"
      ]
     },
     "execution_count": 139,
     "metadata": {},
     "output_type": "execute_result"
    }
   ],
   "source": [
    "ep.std()"
   ]
  },
  {
   "cell_type": "code",
   "execution_count": 141,
   "metadata": {},
   "outputs": [
    {
     "data": {
      "text/plain": [
       "0.13531799729364005"
      ]
     },
     "execution_count": 141,
     "metadata": {},
     "output_type": "execute_result"
    }
   ],
   "source": [
    "ep.max()"
   ]
  },
  {
   "cell_type": "code",
   "execution_count": 142,
   "metadata": {},
   "outputs": [
    {
     "data": {
      "text/plain": [
       "0.01410238330277817"
      ]
     },
     "execution_count": 142,
     "metadata": {},
     "output_type": "execute_result"
    }
   ],
   "source": [
    "ep.min()"
   ]
  },
  {
   "cell_type": "markdown",
   "metadata": {},
   "source": [
    "In one line of code, extract all the years along with values where the earnings yield exceeded the average earnings yield."
   ]
  },
  {
   "cell_type": "code",
   "execution_count": 147,
   "metadata": {},
   "outputs": [
    {
     "data": {
      "text/plain": [
       "Year\n",
       "1974    0.085616\n",
       "1975    0.120482\n",
       "1976    0.084602\n",
       "1977    0.096061\n",
       "1978    0.120773\n",
       "1979    0.126904\n",
       "1980    0.135318\n",
       "1981    0.110865\n",
       "1982    0.129366\n",
       "1983    0.087108\n",
       "1984    0.086806\n",
       "1985    0.096525\n",
       "1986    0.070028\n",
       "1988    0.071327\n",
       "1989    0.084602\n",
       "1990    0.066094\n",
       "1991    0.065147\n",
       "1995    0.067159\n",
       "2012    0.067249\n",
       "Name: sp500ep, dtype: float64"
      ]
     },
     "execution_count": 147,
     "metadata": {},
     "output_type": "execute_result"
    }
   ],
   "source": [
    "ep[ep > ep.mean()]"
   ]
  },
  {
   "cell_type": "markdown",
   "metadata": {},
   "source": [
    "<i>Treasury bonds are assumed to be the safest of all investments in the world. The dictionary data below is percent yield by year for the ten-year Treasury bond. Take for example the first entry for the year 1970 with a yield of 7.79%. If you were to invest 100 dollars in this bond, you will technically lock your money for ten years but every year, you will receive 7.79 dollars in interest for ten years and when the term is over, you will get your initial principal of 100 dollars back. Create a new series called <b>bond_yld</b>, name it <b>tenyrbond</b>, convert to the proportion form and answer the questions below.</i>"
   ]
  },
  {
   "cell_type": "code",
   "execution_count": 149,
   "metadata": {},
   "outputs": [],
   "source": [
    "tenyr = {1970: 7.79, 1971: 6.24, 1972: 5.95, 1973: 6.46, 1974: 6.99, 1975: 7.5, 1976: 7.74, 1977: 7.21, 1978: 7.96, \n",
    "         1979: 9.1, 1980: 10.8, 1981: 12.57, 1982: 14.59, 1983: 10.46, 1984: 11.67, 1985: 11.38, 1986: 9.19, 1987: 7.08,\n",
    "        1988: 8.67, 1989: 9.09, 1990: 8.21, 1991: 8.09, 1992: 7.03, 1993: 6.6, 1994: 5.75, 1995: 7.78, 1996: 5.65,\n",
    "        1997: 6.58, 1998: 5.54, 1999: 4.72, 2000: 6.66, 2001: 5.16, 2002: 5.04, 2003: 4.05, 2004: 4.15, 2005: 4.22,\n",
    "        2006: 4.42, 2007: 4.76, 2008: 3.74, 2009: 2.52, 2010: 3.73, 2011: 3.39, 2012: 1.97, 2013: 1.91, 2014: 2.86,\n",
    "        2015: 1.88, 2016: 2.09, 2017: 2.43, 2018: 2.58}"
   ]
  },
  {
   "cell_type": "code",
   "execution_count": 150,
   "metadata": {},
   "outputs": [
    {
     "data": {
      "text/plain": [
       "Year\n",
       "1970     7.79\n",
       "1971     6.24\n",
       "1972     5.95\n",
       "1973     6.46\n",
       "1974     6.99\n",
       "1975     7.50\n",
       "1976     7.74\n",
       "1977     7.21\n",
       "1978     7.96\n",
       "1979     9.10\n",
       "1980    10.80\n",
       "1981    12.57\n",
       "1982    14.59\n",
       "1983    10.46\n",
       "1984    11.67\n",
       "1985    11.38\n",
       "1986     9.19\n",
       "1987     7.08\n",
       "1988     8.67\n",
       "1989     9.09\n",
       "1990     8.21\n",
       "1991     8.09\n",
       "1992     7.03\n",
       "1993     6.60\n",
       "1994     5.75\n",
       "1995     7.78\n",
       "1996     5.65\n",
       "1997     6.58\n",
       "1998     5.54\n",
       "1999     4.72\n",
       "2000     6.66\n",
       "2001     5.16\n",
       "2002     5.04\n",
       "2003     4.05\n",
       "2004     4.15\n",
       "2005     4.22\n",
       "2006     4.42\n",
       "2007     4.76\n",
       "2008     3.74\n",
       "2009     2.52\n",
       "2010     3.73\n",
       "2011     3.39\n",
       "2012     1.97\n",
       "2013     1.91\n",
       "2014     2.86\n",
       "2015     1.88\n",
       "2016     2.09\n",
       "2017     2.43\n",
       "2018     2.58\n",
       "Name: tenyrbond, dtype: float64"
      ]
     },
     "execution_count": 150,
     "metadata": {},
     "output_type": "execute_result"
    }
   ],
   "source": [
    "bond_yld=pd.Series(tenyr)\n",
    "bond_yld.name = 'tenyrbond'\n",
    "bond_yld.index.name='Year'\n",
    "bond_yld"
   ]
  },
  {
   "cell_type": "markdown",
   "metadata": {},
   "source": [
    "### Question 9"
   ]
  },
  {
   "cell_type": "markdown",
   "metadata": {},
   "source": [
    "What is the mean and the standard deviation of <b>bond_yld</b>?"
   ]
  },
  {
   "cell_type": "code",
   "execution_count": 151,
   "metadata": {},
   "outputs": [
    {
     "data": {
      "text/plain": [
       "count    49.000000\n",
       "mean      6.366327\n",
       "std       2.987786\n",
       "min       1.880000\n",
       "25%       4.150000\n",
       "50%       6.460000\n",
       "75%       7.960000\n",
       "max      14.590000\n",
       "Name: tenyrbond, dtype: float64"
      ]
     },
     "execution_count": 151,
     "metadata": {},
     "output_type": "execute_result"
    }
   ],
   "source": [
    "bond_yld.describe()"
   ]
  },
  {
   "cell_type": "code",
   "execution_count": 152,
   "metadata": {},
   "outputs": [
    {
     "data": {
      "text/plain": [
       "6.366326530612247"
      ]
     },
     "execution_count": 152,
     "metadata": {},
     "output_type": "execute_result"
    }
   ],
   "source": [
    "bond_yld.mean()"
   ]
  },
  {
   "cell_type": "code",
   "execution_count": 153,
   "metadata": {},
   "outputs": [
    {
     "data": {
      "text/plain": [
       "2.987786035036054"
      ]
     },
     "execution_count": 153,
     "metadata": {},
     "output_type": "execute_result"
    }
   ],
   "source": [
    "bond_yld.std()"
   ]
  },
  {
   "cell_type": "markdown",
   "metadata": {},
   "source": [
    "Historically, inflation clocks in at around 3%. Extract all the years where the <b>bond_yld</b> is below the inflation rate."
   ]
  },
  {
   "cell_type": "code",
   "execution_count": 154,
   "metadata": {},
   "outputs": [
    {
     "data": {
      "text/plain": [
       "Year\n",
       "2009    2.52\n",
       "2012    1.97\n",
       "2013    1.91\n",
       "2014    2.86\n",
       "2015    1.88\n",
       "2016    2.09\n",
       "2017    2.43\n",
       "2018    2.58\n",
       "Name: tenyrbond, dtype: float64"
      ]
     },
     "execution_count": 154,
     "metadata": {},
     "output_type": "execute_result"
    }
   ],
   "source": [
    "bond_yld[bond_yld < 3]"
   ]
  },
  {
   "cell_type": "markdown",
   "metadata": {},
   "source": [
    "In one line of code, use the years where <b>bond_yld</b> was below the rate of inflation and extract earnings yield (<b>ep</b>) for the S&P 500 index."
   ]
  },
  {
   "cell_type": "code",
   "execution_count": 157,
   "metadata": {},
   "outputs": [
    {
     "data": {
      "text/plain": [
       "Year\n",
       "2009    0.014102\n",
       "2012    0.067249\n",
       "2013    0.058720\n",
       "2014    0.055096\n",
       "2015    0.049950\n",
       "2016    0.045086\n",
       "2017    0.042391\n",
       "2018    0.040048\n",
       "Name: sp500ep, dtype: float64"
      ]
     },
     "execution_count": 157,
     "metadata": {},
     "output_type": "execute_result"
    }
   ],
   "source": [
    "ep[bond_yld[bond_yld < 3].index]"
   ]
  },
  {
   "cell_type": "markdown",
   "metadata": {},
   "source": [
    "### Question 10"
   ]
  },
  {
   "cell_type": "markdown",
   "metadata": {},
   "source": [
    "- What caused the 10-year Treasury bond yield to drop below the historical inflation rate?\n",
    "- If you had to choose between investing in the 10-year Treasury bond or in the stock market through the S&P 500 index, where would you invest? And why?"
   ]
  },
  {
   "cell_type": "markdown",
   "metadata": {},
   "source": [
    "The 10 year treasury bond yield is tied to the inflation rate. We are currently experiencing a historic low \n",
    "inflation rate/interest rate which is kept so low to encourage investments in the economy. Yet, will all this encouragement, the economy is not picking up. "
   ]
  },
  {
   "cell_type": "markdown",
   "metadata": {},
   "source": [
    "Choosing between treasury bonds or S&P500: Since t-bonds are not giving a high yield, it seems wiser to invest in the S&P500, where you have a e/p of about 4%. If t-bonds increase their interest rate, you can still switch into t-bonds.\n",
    "Buying t-bonds today would force you to sell them, when interest rate go up, at a lower price to make up for the low interest rate. It is hard to earn money with t-bonds at their current rate. \n",
    "Making money with S&P500 stocks seems much more likely. "
   ]
  }
 ],
 "metadata": {
  "kernelspec": {
   "display_name": "Python 3",
   "language": "python",
   "name": "python3"
  },
  "language_info": {
   "codemirror_mode": {
    "name": "ipython",
    "version": 3
   },
   "file_extension": ".py",
   "mimetype": "text/x-python",
   "name": "python",
   "nbconvert_exporter": "python",
   "pygments_lexer": "ipython3",
   "version": "3.7.6"
  }
 },
 "nbformat": 4,
 "nbformat_minor": 1
}
